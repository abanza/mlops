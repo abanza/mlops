{
 "cells": [
  {
   "cell_type": "markdown",
   "id": "02374687-81e8-454b-8110-01208613f809",
   "metadata": {},
   "source": [
    "# \"Deploying a Machine Learning Model Tutorial\"\n",
    "> \"This tutorial is all about deploying a real machine learning model. More precisely, we will deploy a computer vision model trained to detect common objects in pictures.\"\n",
    "\n",
    "- toc: false\n",
    "- branch: master\n",
    "- badges: true\n",
    "- comments: true\n",
    "- categories: [fastpages, jupyter]\n",
    "- image: images/some_folder/your_image.png\n",
    "- hide: false\n",
    "- search_exclude: true\n",
    "- metadata_key1: metadata_value1\n",
    "- metadata_key2: metadata_value2"
   ]
  },
  {
   "cell_type": "markdown",
   "id": "355df727-483f-458a-912c-dcae983aceba",
   "metadata": {},
   "source": [
    "# Deploying a Machine Learning Model Tutorial\n",
    "\n",
    "This tutorial is all about deploying a real machine learning model. More precisely, we will deploy a computer vision model trained to detect common objects in pictures. Deploying a model is one of the last steps in a machine learning workflow. This tutorial uses a pretrained model called [`YOLOV3`](https://pjreddie.com/darknet/yolo/). You only look once (YOLO) is a state-of-the-art, real-time object detection system. The model is fast and accurate. Moreover, you can easily tradeoff between speed and accuracy simply by changing the size of the model, no retraining required!\n",
    "\n",
    "The tasks in this tutorial are as follow:\n",
    "1. Exploring the images in the data set\n",
    "2. Analyzing the YOLO model\n",
    "3. Deploy the model using [`fastAPI`](https://fastapi.tiangolo.com/)"
   ]
  },
  {
   "cell_type": "markdown",
   "id": "d92307f9-6f70-46a3-9b1a-39eb0607d3a8",
   "metadata": {},
   "source": [
    "## Object Detection with YOLOV3\n",
    "\n",
    "### Exploring the images in the data set\n",
    "\n",
    "This will give us an insight on what type of common objects are present for detection. These images are part of the [`ImageNet`](http://www.image-net.org/index) dataset."
   ]
  },
  {
   "cell_type": "code",
   "execution_count": null,
   "id": "366f1bc6-3b01-45e1-8376-ee363abf1a27",
   "metadata": {},
   "outputs": [],
   "source": []
  }
 ],
 "metadata": {
  "kernelspec": {
   "display_name": "Python [conda env:opencv] *",
   "language": "python",
   "name": "conda-env-opencv-py"
  },
  "language_info": {
   "codemirror_mode": {
    "name": "ipython",
    "version": 3
   },
   "file_extension": ".py",
   "mimetype": "text/x-python",
   "name": "python",
   "nbconvert_exporter": "python",
   "pygments_lexer": "ipython3",
   "version": "3.8.10"
  }
 },
 "nbformat": 4,
 "nbformat_minor": 5
}
