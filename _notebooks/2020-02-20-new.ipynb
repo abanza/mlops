{
 "cells": [
  {
   "cell_type": "markdown",
   "id": "02374687-81e8-454b-8110-01208613f809",
   "metadata": {},
   "source": [
    "# \"Title\"\n",
    "> \"Awesome summary\"\n",
    "\n",
    "- toc: false\n",
    "- branch: master\n",
    "- badges: true\n",
    "- comments: true\n",
    "- categories: [fastpages, jupyter]\n",
    "- image: images/some_folder/your_image.png\n",
    "- hide: false\n",
    "- search_exclude: true\n",
    "- metadata_key1: metadata_value1\n",
    "- metadata_key2: metadata_value2"
   ]
  },
  {
   "cell_type": "markdown",
   "id": "355df727-483f-458a-912c-dcae983aceba",
   "metadata": {},
   "source": [
    "Welcome to my blog!"
   ]
  },
  {
   "cell_type": "code",
   "execution_count": null,
   "id": "7cd14520-36a5-4ce7-8203-ec6f8f141d96",
   "metadata": {},
   "outputs": [],
   "source": []
  }
 ],
 "metadata": {
  "kernelspec": {
   "display_name": "Python [conda env:opencv] *",
   "language": "python",
   "name": "conda-env-opencv-py"
  },
  "language_info": {
   "codemirror_mode": {
    "name": "ipython",
    "version": 3
   },
   "file_extension": ".py",
   "mimetype": "text/x-python",
   "name": "python",
   "nbconvert_exporter": "python",
   "pygments_lexer": "ipython3",
   "version": "3.8.10"
  }
 },
 "nbformat": 4,
 "nbformat_minor": 5
}
